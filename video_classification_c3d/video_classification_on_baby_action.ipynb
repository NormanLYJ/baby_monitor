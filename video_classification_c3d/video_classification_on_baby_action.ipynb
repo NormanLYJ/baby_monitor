{
  "nbformat": 4,
  "nbformat_minor": 0,
  "metadata": {
    "colab": {
      "name": "video classification on baby action.ipynb",
      "provenance": []
    },
    "kernelspec": {
      "name": "python3",
      "display_name": "Python 3"
    },
    "language_info": {
      "name": "python"
    }
  },
  "cells": [
    {
      "cell_type": "code",
      "metadata": {
        "colab": {
          "base_uri": "https://localhost:8080/"
        },
        "id": "FnpOIt3rbZ1t",
        "outputId": "20befb5a-d9aa-4e47-f6d3-c33d628c035c"
      },
      "source": [
        "# Check GPU setup in Colab\n",
        "%tensorflow_version 1.x\n",
        "import tensorflow as tf\n",
        "\n",
        "# Silence the tensorflow warning message\n",
        "tf.get_logger().setLevel('ERROR')\n",
        "\n",
        "# Check GPU coinfiguration in Colab (T4 GPU)\n",
        "print(\"Tensorflow version: \", tf.__version__)\n",
        "print(tf.test.gpu_device_name())\n",
        "# Your expected output will be '/device:GPU:0'"
      ],
      "execution_count": null,
      "outputs": [
        {
          "output_type": "stream",
          "text": [
            "TensorFlow 1.x selected.\n",
            "Tensorflow version:  1.15.2\n",
            "\n"
          ],
          "name": "stdout"
        }
      ]
    },
    {
      "cell_type": "code",
      "metadata": {
        "colab": {
          "base_uri": "https://localhost:8080/"
        },
        "id": "1RxwaaiOdzAf",
        "outputId": "3515fdd9-809f-4108-9df0-be3e9b6fb97e"
      },
      "source": [
        "# Mount your drive\n",
        "# Run this cell, then you’ll see a link, click on that link, allow access\n",
        "# Copy the code that pops up, Paste it in the box, Hit enter\n",
        "\n",
        "from google.colab import drive\n",
        "drive.mount('/content/gdrive')\n",
        "# Change working directory to be current folder\n",
        "import os\n",
        "os.chdir('/content/gdrive/My Drive/iss/itss/data/baby')\n",
        "!ls"
      ],
      "execution_count": null,
      "outputs": [
        {
          "output_type": "stream",
          "text": [
            "Mounted at /content/gdrive\n",
            "climb  climbing.mp4  crawl  lying4.mp4\troll  standing.mp4  walk\n"
          ],
          "name": "stdout"
        }
      ]
    },
    {
      "cell_type": "code",
      "metadata": {
        "colab": {
          "base_uri": "https://localhost:8080/"
        },
        "id": "RG0BA3Yrd0vv",
        "outputId": "9a116fe6-2ec2-44ba-c714-d26725e4d90b"
      },
      "source": [
        "import cv2\n",
        "import os\n",
        "import numpy as np\n",
        "import random\n",
        "import matplotlib.pyplot as plt\n",
        "%matplotlib inline\n",
        "from scipy import sqrt, pi, arctan2, cos, sin # used for HoF\n",
        "from scipy.ndimage import uniform_filter # used for hoF\n",
        "from sklearn import svm\n",
        "\n",
        "from keras.layers import Activation, Conv3D, Dense, Dropout, Flatten, MaxPooling3D\n",
        "from keras.losses import categorical_crossentropy\n",
        "from keras.models import Sequential, Model\n",
        "from keras.models import load_model\n",
        "from keras.optimizers import Adam\n",
        "from keras.utils import np_utils\n",
        "from sklearn.metrics import confusion_matrix\n"
      ],
      "execution_count": null,
      "outputs": [
        {
          "output_type": "stream",
          "text": [
            "Using TensorFlow backend.\n"
          ],
          "name": "stderr"
        }
      ]
    },
    {
      "cell_type": "code",
      "metadata": {
        "id": "_odhJLSLeCuH"
      },
      "source": [
        "def load_groups(input_folder,group):\n",
        "    '''\n",
        "    Load the list of sub-folders into a python list with their\n",
        "    corresponding label.\n",
        "    '''\n",
        "    groups         = []\n",
        "    label_folders  = os.listdir(input_folder)\n",
        "    if os.path.isdir(input_folder):\n",
        "      group_folders = os.listdir(input_folder)\n",
        "      for group_folder in group_folders:\n",
        "          if group_folder != 'Annotation':\n",
        "              groups.append([os.path.join('/content/gdrive/My Drive/iss/itss/data/baby',input_folder, group_folder), group])\n",
        "\n",
        "    return groups\n",
        "\n",
        "#Reference: https://github.com/microsoft/CNTK/blob/master/Examples/Video/DataSets/UCF11/split_ucf11.py\n",
        "def ucf_split_data(group):\n",
        "    '''\n",
        "    Split the data at random for train, eval and test set.\n",
        "    '''\n",
        "    group_count = len(group)\n",
        "    indices = np.arange(group_count)\n",
        "\n",
        "    np.random.seed(0) # Make it deterministic.\n",
        "    np.random.shuffle(indices)\n",
        "\n",
        "    # 80% training and 20% test.\n",
        "    train_count = int(0.8 * group_count)\n",
        "    test_count  = group_count - train_count\n",
        "\n",
        "    train = []\n",
        "    test  = []\n",
        "\n",
        "    for i in range(train_count):\n",
        "        train.append(group[i])\n",
        "\n",
        "    for i in range(train_count, train_count + test_count):\n",
        "        test.append(group[i])\n",
        "\n",
        "    return train, test\n"
      ],
      "execution_count": null,
      "outputs": []
    },
    {
      "cell_type": "code",
      "metadata": {
        "id": "6fw3ZUs3q36A"
      },
      "source": [
        "# Prepare the dataset\n",
        "climb_groups = load_groups(\"climb\",0)\n",
        "crawl_groups = load_groups(\"crawl\",1)\n",
        "roll_groups = load_groups(\"roll\",2)\n",
        "walk_groups = load_groups(\"walk\",3)"
      ],
      "execution_count": null,
      "outputs": []
    },
    {
      "cell_type": "code",
      "metadata": {
        "colab": {
          "base_uri": "https://localhost:8080/"
        },
        "id": "tqfwJCoRrZu3",
        "outputId": "a12c7a49-e079-4b01-aa9c-2937626dc40f"
      },
      "source": [
        "len(climb_groups)"
      ],
      "execution_count": null,
      "outputs": [
        {
          "output_type": "execute_result",
          "data": {
            "text/plain": [
              "80"
            ]
          },
          "metadata": {
            "tags": []
          },
          "execution_count": 12
        }
      ]
    },
    {
      "cell_type": "code",
      "metadata": {
        "colab": {
          "base_uri": "https://localhost:8080/"
        },
        "id": "1gxepIncrcg3",
        "outputId": "f2134225-1edc-4c3e-f823-f54dec16e8cf"
      },
      "source": [
        "len(crawl_groups)"
      ],
      "execution_count": null,
      "outputs": [
        {
          "output_type": "execute_result",
          "data": {
            "text/plain": [
              "80"
            ]
          },
          "metadata": {
            "tags": []
          },
          "execution_count": 13
        }
      ]
    },
    {
      "cell_type": "code",
      "metadata": {
        "colab": {
          "base_uri": "https://localhost:8080/"
        },
        "id": "kAeALg8YrcZn",
        "outputId": "b948b0ae-1c81-4691-c80e-d8709d81486c"
      },
      "source": [
        "len(roll_groups)"
      ],
      "execution_count": null,
      "outputs": [
        {
          "output_type": "execute_result",
          "data": {
            "text/plain": [
              "80"
            ]
          },
          "metadata": {
            "tags": []
          },
          "execution_count": 14
        }
      ]
    },
    {
      "cell_type": "code",
      "metadata": {
        "colab": {
          "base_uri": "https://localhost:8080/"
        },
        "id": "jCa9XE6mrcP3",
        "outputId": "40e00c4a-17c9-4619-d209-e5c3bf5d56f9"
      },
      "source": [
        "len(walk_groups)"
      ],
      "execution_count": null,
      "outputs": [
        {
          "output_type": "execute_result",
          "data": {
            "text/plain": [
              "80"
            ]
          },
          "metadata": {
            "tags": []
          },
          "execution_count": 15
        }
      ]
    },
    {
      "cell_type": "code",
      "metadata": {
        "id": "tJwtH6b8s6bd"
      },
      "source": [
        "climb_train, climb_test = ucf_split_data(climb_groups)\n",
        "crawl_train, crawl_test = ucf_split_data(crawl_groups)\n",
        "roll_train, roll_test = ucf_split_data(roll_groups)\n",
        "walk_train, walk_test = ucf_split_data(walk_groups)"
      ],
      "execution_count": null,
      "outputs": []
    },
    {
      "cell_type": "code",
      "metadata": {
        "id": "ztVRTIrkt8bg"
      },
      "source": [
        "ucf_train = climb_train + crawl_train + roll_train + walk_train\n",
        "\n",
        "ucf_test = climb_test + crawl_test + roll_test + walk_test"
      ],
      "execution_count": null,
      "outputs": []
    },
    {
      "cell_type": "code",
      "metadata": {
        "id": "TmVsl88i0Kep"
      },
      "source": [
        "class Videoto3D:\n",
        "\n",
        "    def __init__(self, width, height, depth):\n",
        "        self.width = width\n",
        "        self.height = height\n",
        "        self.depth = depth\n",
        "\n",
        "    def get_data(self, filename, skip=True):\n",
        "        cap = cv2.VideoCapture(filename)\n",
        "        nframe = cap.get(cv2.CAP_PROP_FRAME_COUNT)\n",
        "        bAppend = False\n",
        "        if (nframe>=self.depth):\n",
        "            if skip:\n",
        "                frames = [x * nframe / self.depth for x in range(self.depth)]\n",
        "            else:\n",
        "                frames = [x for x in range(self.depth)]\n",
        "        else:\n",
        "            print(\"Insufficient %d frames in video %s, set bAppend as True\" % (nframe, filename))\n",
        "            bAppend = True\n",
        "            frames = [x for x in range(int(nframe))] # nframe is a float\n",
        "\n",
        "        framearray = []\n",
        "\n",
        "        for i in range(len(frames)):#self.depth):\n",
        "            cap.set(cv2.CAP_PROP_POS_FRAMES, frames[i])\n",
        "            ret, frame = cap.read()\n",
        "            frame = cv2.resize(frame, (self.height, self.width))\n",
        "            framearray.append(cv2.cvtColor(frame, cv2.COLOR_BGR2GRAY))\n",
        "\n",
        "        cap.release()\n",
        "        \n",
        "        if bAppend:\n",
        "            while len(framearray) < self.depth:\n",
        "                framearray.append(cv2.cvtColor(frame, cv2.COLOR_BGR2GRAY))\n",
        "            print(\"Append more frames in the framearray to have %d frames\" % len(framearray))\n",
        "                \n",
        "        return np.array(framearray)\n",
        "\n",
        "def loaddata(video_list, vid3d, skip=True):\n",
        "    X = []\n",
        "    Y = []\n",
        "    for idx, value in enumerate(video_list):\n",
        "        # Display the progress\n",
        "        if (idx % 100) == 0:\n",
        "            print(\"process data %d/%d\" % (idx, len(video_list)))\n",
        "        filename = value[0]\n",
        "        label = value[1]\n",
        "        Y.append(label)\n",
        "        X.append(vid3d.get_data(filename, skip=skip))\n",
        "        \n",
        "    return np.array(X).transpose((0, 2, 3, 1)), np.array(Y)\n"
      ],
      "execution_count": null,
      "outputs": []
    },
    {
      "cell_type": "code",
      "metadata": {
        "id": "8BRdvxjY1GwL"
      },
      "source": [
        "# Define parameter setting\n",
        "class Args:\n",
        "    batch = 128\n",
        "    epoch = 100\n",
        "    nclass = 4 # 11 action categories\n",
        "    depth = 10\n",
        "    rows = 32\n",
        "    cols = 32\n",
        "    skip = True # Skip: randomly extract frames; otherwise, extract first few frames\n",
        "\n",
        "param_setting = Args()\n",
        "img_rows = param_setting.rows\n",
        "img_cols = param_setting.cols\n",
        "frames = param_setting.depth\n",
        "channel = 1\n",
        "vid3d = Videoto3D(img_rows, img_cols, frames)\n",
        "nb_classes = param_setting.nclass\n"
      ],
      "execution_count": null,
      "outputs": []
    },
    {
      "cell_type": "code",
      "metadata": {
        "colab": {
          "base_uri": "https://localhost:8080/"
        },
        "id": "NKLSpv6f1IxS",
        "outputId": "817e0715-b1b2-477e-e4fb-5aee3828c8ad"
      },
      "source": [
        "# Prepare training data\n",
        "x_train, y_train = loaddata(ucf_train, vid3d, param_setting.skip)\n",
        "x_train = x_train.reshape((x_train.shape[0], img_rows, img_cols, frames, channel))\n",
        "y_train = np_utils.to_categorical(y_train, nb_classes)  \n",
        "\n",
        "# Prepare test data\n",
        "x_test, y_test = loaddata(ucf_test, vid3d, param_setting.skip)\n",
        "x_test = x_test.reshape((x_test.shape[0], img_rows, img_cols, frames, channel))\n",
        "y_test = np_utils.to_categorical(y_test, nb_classes)\n"
      ],
      "execution_count": null,
      "outputs": [
        {
          "output_type": "stream",
          "text": [
            "process data 0/256\n",
            "process data 100/256\n",
            "process data 200/256\n",
            "process data 0/64\n"
          ],
          "name": "stdout"
        }
      ]
    },
    {
      "cell_type": "code",
      "metadata": {
        "colab": {
          "base_uri": "https://localhost:8080/"
        },
        "id": "hP0QAKlS1Kzg",
        "outputId": "2ffe7fc0-1662-45ce-98b8-bd3486354904"
      },
      "source": [
        "# Define deep learning model\n",
        "\n",
        "c3d_model = Sequential()\n",
        "c3d_model.add(Conv3D(32, kernel_size=(3, 3, 3), input_shape=(x_train.shape[1:]), padding='same'))\n",
        "c3d_model.add(Activation('relu'))\n",
        "c3d_model.add(Conv3D(32, kernel_size=(3, 3, 3), padding='same'))\n",
        "c3d_model.add(Activation('softmax'))\n",
        "c3d_model.add(MaxPooling3D(pool_size=(3, 3, 3), padding='same'))\n",
        "c3d_model.add(Dropout(0.25))\n",
        "\n",
        "c3d_model.add(Conv3D(64, kernel_size=(3, 3, 3), padding='same'))\n",
        "c3d_model.add(Activation('relu'))\n",
        "c3d_model.add(Conv3D(64, kernel_size=(3, 3, 3), padding='same'))\n",
        "c3d_model.add(Activation('softmax'))\n",
        "c3d_model.add(MaxPooling3D(pool_size=(3, 3, 3), padding='same'))\n",
        "c3d_model.add(Dropout(0.25))\n",
        "\n",
        "c3d_model.add(Flatten(name='flatten_feature'))\n",
        "c3d_model.add(Dense(512, activation='sigmoid'))\n",
        "c3d_model.add(Dropout(0.2))\n",
        "c3d_model.add(Dense(nb_classes, activation='softmax'))\n",
        "\n",
        "c3d_model.compile(loss=categorical_crossentropy, optimizer=Adam(), metrics=['accuracy'])\n",
        "c3d_model.summary()"
      ],
      "execution_count": null,
      "outputs": [
        {
          "output_type": "stream",
          "text": [
            "Model: \"sequential_1\"\n",
            "_________________________________________________________________\n",
            "Layer (type)                 Output Shape              Param #   \n",
            "=================================================================\n",
            "conv3d_1 (Conv3D)            (None, 32, 32, 10, 32)    896       \n",
            "_________________________________________________________________\n",
            "activation_1 (Activation)    (None, 32, 32, 10, 32)    0         \n",
            "_________________________________________________________________\n",
            "conv3d_2 (Conv3D)            (None, 32, 32, 10, 32)    27680     \n",
            "_________________________________________________________________\n",
            "activation_2 (Activation)    (None, 32, 32, 10, 32)    0         \n",
            "_________________________________________________________________\n",
            "max_pooling3d_1 (MaxPooling3 (None, 11, 11, 4, 32)     0         \n",
            "_________________________________________________________________\n",
            "dropout_1 (Dropout)          (None, 11, 11, 4, 32)     0         \n",
            "_________________________________________________________________\n",
            "conv3d_3 (Conv3D)            (None, 11, 11, 4, 64)     55360     \n",
            "_________________________________________________________________\n",
            "activation_3 (Activation)    (None, 11, 11, 4, 64)     0         \n",
            "_________________________________________________________________\n",
            "conv3d_4 (Conv3D)            (None, 11, 11, 4, 64)     110656    \n",
            "_________________________________________________________________\n",
            "activation_4 (Activation)    (None, 11, 11, 4, 64)     0         \n",
            "_________________________________________________________________\n",
            "max_pooling3d_2 (MaxPooling3 (None, 4, 4, 2, 64)       0         \n",
            "_________________________________________________________________\n",
            "dropout_2 (Dropout)          (None, 4, 4, 2, 64)       0         \n",
            "_________________________________________________________________\n",
            "flatten_feature (Flatten)    (None, 2048)              0         \n",
            "_________________________________________________________________\n",
            "dense_1 (Dense)              (None, 512)               1049088   \n",
            "_________________________________________________________________\n",
            "dropout_3 (Dropout)          (None, 512)               0         \n",
            "_________________________________________________________________\n",
            "dense_2 (Dense)              (None, 4)                 2052      \n",
            "=================================================================\n",
            "Total params: 1,245,732\n",
            "Trainable params: 1,245,732\n",
            "Non-trainable params: 0\n",
            "_________________________________________________________________\n"
          ],
          "name": "stdout"
        }
      ]
    },
    {
      "cell_type": "code",
      "metadata": {
        "colab": {
          "base_uri": "https://localhost:8080/"
        },
        "id": "_m_hZTBe1QxR",
        "outputId": "204b0131-18cc-4960-f9e6-6936ef13775d"
      },
      "source": [
        "# # Train the model\n",
        "history = c3d_model.fit(x_train, y_train, validation_data=(x_test, y_test), batch_size=param_setting.batch,\n",
        "          epochs=param_setting.epoch, verbose=2, shuffle=True)\n",
        "\n",
        "#c3d_model.save_weights(\"/content/gdrive/My Drive/iss/itss/data/model_c3d_v0815.h5\")"
      ],
      "execution_count": null,
      "outputs": [
        {
          "output_type": "stream",
          "text": [
            "Train on 256 samples, validate on 64 samples\n",
            "Epoch 1/100\n",
            " - 35s - loss: 1.4706 - accuracy: 0.2148 - val_loss: 1.3991 - val_accuracy: 0.2500\n",
            "Epoch 2/100\n",
            " - 34s - loss: 1.4645 - accuracy: 0.2422 - val_loss: 1.4021 - val_accuracy: 0.2500\n",
            "Epoch 3/100\n",
            " - 34s - loss: 1.4576 - accuracy: 0.2461 - val_loss: 1.3878 - val_accuracy: 0.2500\n",
            "Epoch 4/100\n",
            " - 34s - loss: 1.4232 - accuracy: 0.2070 - val_loss: 1.3975 - val_accuracy: 0.2500\n",
            "Epoch 5/100\n",
            " - 34s - loss: 1.4422 - accuracy: 0.2500 - val_loss: 1.3922 - val_accuracy: 0.2500\n",
            "Epoch 6/100\n",
            " - 33s - loss: 1.4444 - accuracy: 0.2539 - val_loss: 1.3877 - val_accuracy: 0.2500\n",
            "Epoch 7/100\n",
            " - 34s - loss: 1.4339 - accuracy: 0.2617 - val_loss: 1.3980 - val_accuracy: 0.2500\n",
            "Epoch 8/100\n",
            " - 34s - loss: 1.4767 - accuracy: 0.2188 - val_loss: 1.3965 - val_accuracy: 0.2500\n",
            "Epoch 9/100\n",
            " - 33s - loss: 1.4192 - accuracy: 0.2617 - val_loss: 1.3873 - val_accuracy: 0.2500\n",
            "Epoch 10/100\n",
            " - 33s - loss: 1.4081 - accuracy: 0.2617 - val_loss: 1.3912 - val_accuracy: 0.2500\n",
            "Epoch 11/100\n",
            " - 34s - loss: 1.4506 - accuracy: 0.2539 - val_loss: 1.3938 - val_accuracy: 0.2500\n",
            "Epoch 12/100\n",
            " - 34s - loss: 1.4439 - accuracy: 0.2266 - val_loss: 1.3891 - val_accuracy: 0.2500\n",
            "Epoch 13/100\n",
            " - 34s - loss: 1.4379 - accuracy: 0.2344 - val_loss: 1.3869 - val_accuracy: 0.2500\n",
            "Epoch 14/100\n",
            " - 34s - loss: 1.4312 - accuracy: 0.2266 - val_loss: 1.3901 - val_accuracy: 0.2500\n",
            "Epoch 15/100\n",
            " - 34s - loss: 1.4512 - accuracy: 0.2695 - val_loss: 1.3913 - val_accuracy: 0.2500\n",
            "Epoch 16/100\n",
            " - 34s - loss: 1.4298 - accuracy: 0.2188 - val_loss: 1.3879 - val_accuracy: 0.2500\n",
            "Epoch 17/100\n",
            " - 34s - loss: 1.4154 - accuracy: 0.3047 - val_loss: 1.3878 - val_accuracy: 0.2500\n",
            "Epoch 18/100\n",
            " - 34s - loss: 1.4322 - accuracy: 0.2305 - val_loss: 1.3902 - val_accuracy: 0.2500\n",
            "Epoch 19/100\n",
            " - 34s - loss: 1.4262 - accuracy: 0.2188 - val_loss: 1.3905 - val_accuracy: 0.2500\n",
            "Epoch 20/100\n",
            " - 34s - loss: 1.4206 - accuracy: 0.2578 - val_loss: 1.3877 - val_accuracy: 0.2500\n",
            "Epoch 21/100\n",
            " - 34s - loss: 1.4431 - accuracy: 0.2383 - val_loss: 1.3869 - val_accuracy: 0.2500\n",
            "Epoch 22/100\n",
            " - 34s - loss: 1.4176 - accuracy: 0.3086 - val_loss: 1.3871 - val_accuracy: 0.2500\n",
            "Epoch 23/100\n",
            " - 34s - loss: 1.4464 - accuracy: 0.2500 - val_loss: 1.3865 - val_accuracy: 0.2500\n",
            "Epoch 24/100\n",
            " - 34s - loss: 1.4273 - accuracy: 0.2500 - val_loss: 1.3876 - val_accuracy: 0.2500\n",
            "Epoch 25/100\n",
            " - 33s - loss: 1.4295 - accuracy: 0.2109 - val_loss: 1.3853 - val_accuracy: 0.3125\n",
            "Epoch 26/100\n",
            " - 34s - loss: 1.4119 - accuracy: 0.2344 - val_loss: 1.3826 - val_accuracy: 0.2500\n",
            "Epoch 27/100\n",
            " - 34s - loss: 1.4224 - accuracy: 0.2500 - val_loss: 1.3753 - val_accuracy: 0.3438\n",
            "Epoch 28/100\n",
            " - 34s - loss: 1.4086 - accuracy: 0.2500 - val_loss: 1.3585 - val_accuracy: 0.2969\n",
            "Epoch 29/100\n",
            " - 33s - loss: 1.4049 - accuracy: 0.2461 - val_loss: 1.3460 - val_accuracy: 0.3594\n",
            "Epoch 30/100\n",
            " - 33s - loss: 1.3848 - accuracy: 0.2930 - val_loss: 1.3381 - val_accuracy: 0.3438\n",
            "Epoch 31/100\n",
            " - 34s - loss: 1.3762 - accuracy: 0.3320 - val_loss: 1.3240 - val_accuracy: 0.3594\n",
            "Epoch 32/100\n",
            " - 34s - loss: 1.3453 - accuracy: 0.3164 - val_loss: 1.2827 - val_accuracy: 0.3906\n",
            "Epoch 33/100\n",
            " - 33s - loss: 1.3327 - accuracy: 0.3750 - val_loss: 1.2610 - val_accuracy: 0.3750\n",
            "Epoch 34/100\n",
            " - 33s - loss: 1.2395 - accuracy: 0.4375 - val_loss: 1.2752 - val_accuracy: 0.4219\n",
            "Epoch 35/100\n",
            " - 33s - loss: 1.2681 - accuracy: 0.4414 - val_loss: 1.2355 - val_accuracy: 0.4375\n",
            "Epoch 36/100\n",
            " - 34s - loss: 1.2669 - accuracy: 0.4141 - val_loss: 1.2312 - val_accuracy: 0.4531\n",
            "Epoch 37/100\n",
            " - 34s - loss: 1.2306 - accuracy: 0.4609 - val_loss: 1.2308 - val_accuracy: 0.5469\n",
            "Epoch 38/100\n",
            " - 34s - loss: 1.1994 - accuracy: 0.4492 - val_loss: 1.1641 - val_accuracy: 0.5156\n",
            "Epoch 39/100\n",
            " - 38s - loss: 1.1921 - accuracy: 0.4453 - val_loss: 1.2182 - val_accuracy: 0.5312\n",
            "Epoch 40/100\n",
            " - 34s - loss: 1.2023 - accuracy: 0.4609 - val_loss: 1.1578 - val_accuracy: 0.4688\n",
            "Epoch 41/100\n",
            " - 34s - loss: 1.2102 - accuracy: 0.4453 - val_loss: 1.1759 - val_accuracy: 0.4688\n",
            "Epoch 42/100\n",
            " - 34s - loss: 1.1734 - accuracy: 0.4844 - val_loss: 1.1992 - val_accuracy: 0.5156\n",
            "Epoch 43/100\n",
            " - 34s - loss: 1.1267 - accuracy: 0.5273 - val_loss: 1.1229 - val_accuracy: 0.5156\n",
            "Epoch 44/100\n",
            " - 34s - loss: 1.1198 - accuracy: 0.5078 - val_loss: 1.1328 - val_accuracy: 0.5469\n",
            "Epoch 45/100\n",
            " - 34s - loss: 1.1137 - accuracy: 0.5273 - val_loss: 1.1017 - val_accuracy: 0.5156\n",
            "Epoch 46/100\n",
            " - 34s - loss: 1.0988 - accuracy: 0.5195 - val_loss: 1.0652 - val_accuracy: 0.5938\n",
            "Epoch 47/100\n",
            " - 34s - loss: 1.0654 - accuracy: 0.5430 - val_loss: 1.1371 - val_accuracy: 0.4844\n",
            "Epoch 48/100\n",
            " - 34s - loss: 1.0752 - accuracy: 0.5352 - val_loss: 1.0390 - val_accuracy: 0.6094\n",
            "Epoch 49/100\n",
            " - 34s - loss: 1.0281 - accuracy: 0.5547 - val_loss: 1.0175 - val_accuracy: 0.6250\n",
            "Epoch 50/100\n",
            " - 34s - loss: 0.9716 - accuracy: 0.5977 - val_loss: 1.0501 - val_accuracy: 0.6094\n",
            "Epoch 51/100\n",
            " - 34s - loss: 0.9492 - accuracy: 0.6133 - val_loss: 0.9876 - val_accuracy: 0.6406\n",
            "Epoch 52/100\n",
            " - 34s - loss: 0.9255 - accuracy: 0.6016 - val_loss: 1.0221 - val_accuracy: 0.5625\n",
            "Epoch 53/100\n",
            " - 34s - loss: 0.9337 - accuracy: 0.6211 - val_loss: 0.9767 - val_accuracy: 0.6562\n",
            "Epoch 54/100\n",
            " - 34s - loss: 0.8848 - accuracy: 0.6055 - val_loss: 0.9521 - val_accuracy: 0.6562\n",
            "Epoch 55/100\n",
            " - 34s - loss: 0.8322 - accuracy: 0.6719 - val_loss: 0.9493 - val_accuracy: 0.6406\n",
            "Epoch 56/100\n",
            " - 34s - loss: 0.8280 - accuracy: 0.6680 - val_loss: 0.9207 - val_accuracy: 0.6719\n",
            "Epoch 57/100\n",
            " - 34s - loss: 0.7556 - accuracy: 0.7148 - val_loss: 0.8897 - val_accuracy: 0.6562\n",
            "Epoch 58/100\n",
            " - 34s - loss: 0.6930 - accuracy: 0.7539 - val_loss: 0.8729 - val_accuracy: 0.6875\n",
            "Epoch 59/100\n",
            " - 33s - loss: 0.6870 - accuracy: 0.7500 - val_loss: 0.8999 - val_accuracy: 0.6719\n",
            "Epoch 60/100\n",
            " - 34s - loss: 0.7097 - accuracy: 0.7305 - val_loss: 0.8927 - val_accuracy: 0.6719\n",
            "Epoch 61/100\n",
            " - 34s - loss: 0.6375 - accuracy: 0.7734 - val_loss: 0.8511 - val_accuracy: 0.6875\n",
            "Epoch 62/100\n",
            " - 34s - loss: 0.6252 - accuracy: 0.7734 - val_loss: 0.8143 - val_accuracy: 0.7344\n",
            "Epoch 63/100\n",
            " - 34s - loss: 0.5932 - accuracy: 0.7812 - val_loss: 0.7537 - val_accuracy: 0.7344\n",
            "Epoch 64/100\n",
            " - 34s - loss: 0.5399 - accuracy: 0.8164 - val_loss: 0.8077 - val_accuracy: 0.6719\n",
            "Epoch 65/100\n",
            " - 34s - loss: 0.5158 - accuracy: 0.8320 - val_loss: 0.7777 - val_accuracy: 0.6875\n",
            "Epoch 66/100\n",
            " - 34s - loss: 0.4682 - accuracy: 0.8594 - val_loss: 0.7107 - val_accuracy: 0.7500\n",
            "Epoch 67/100\n",
            " - 34s - loss: 0.4296 - accuracy: 0.8633 - val_loss: 0.7216 - val_accuracy: 0.7656\n",
            "Epoch 68/100\n",
            " - 34s - loss: 0.4235 - accuracy: 0.8906 - val_loss: 0.8240 - val_accuracy: 0.6406\n",
            "Epoch 69/100\n",
            " - 34s - loss: 0.4105 - accuracy: 0.8516 - val_loss: 0.7596 - val_accuracy: 0.7031\n",
            "Epoch 70/100\n",
            " - 34s - loss: 0.3841 - accuracy: 0.8906 - val_loss: 0.7119 - val_accuracy: 0.7656\n",
            "Epoch 71/100\n",
            " - 34s - loss: 0.4404 - accuracy: 0.8398 - val_loss: 0.7283 - val_accuracy: 0.7500\n",
            "Epoch 72/100\n",
            " - 34s - loss: 0.3650 - accuracy: 0.9023 - val_loss: 0.7614 - val_accuracy: 0.7188\n",
            "Epoch 73/100\n",
            " - 34s - loss: 0.3213 - accuracy: 0.8867 - val_loss: 0.5545 - val_accuracy: 0.7812\n",
            "Epoch 74/100\n",
            " - 34s - loss: 0.2732 - accuracy: 0.9414 - val_loss: 0.7078 - val_accuracy: 0.7812\n",
            "Epoch 75/100\n",
            " - 34s - loss: 0.2746 - accuracy: 0.9258 - val_loss: 0.7161 - val_accuracy: 0.7656\n",
            "Epoch 76/100\n",
            " - 34s - loss: 0.2379 - accuracy: 0.9570 - val_loss: 0.6755 - val_accuracy: 0.7812\n",
            "Epoch 77/100\n",
            " - 34s - loss: 0.2249 - accuracy: 0.9453 - val_loss: 0.6030 - val_accuracy: 0.8281\n",
            "Epoch 78/100\n",
            " - 34s - loss: 0.2010 - accuracy: 0.9609 - val_loss: 0.6334 - val_accuracy: 0.7656\n",
            "Epoch 79/100\n",
            " - 34s - loss: 0.2147 - accuracy: 0.9336 - val_loss: 0.7330 - val_accuracy: 0.7031\n",
            "Epoch 80/100\n",
            " - 34s - loss: 0.1881 - accuracy: 0.9453 - val_loss: 0.7325 - val_accuracy: 0.7188\n",
            "Epoch 81/100\n",
            " - 34s - loss: 0.1881 - accuracy: 0.9570 - val_loss: 0.6111 - val_accuracy: 0.7656\n",
            "Epoch 82/100\n",
            " - 34s - loss: 0.1405 - accuracy: 0.9805 - val_loss: 0.6627 - val_accuracy: 0.7344\n",
            "Epoch 83/100\n",
            " - 34s - loss: 0.1553 - accuracy: 0.9570 - val_loss: 0.7109 - val_accuracy: 0.7656\n",
            "Epoch 84/100\n",
            " - 34s - loss: 0.1295 - accuracy: 0.9805 - val_loss: 0.8793 - val_accuracy: 0.6875\n",
            "Epoch 85/100\n",
            " - 34s - loss: 0.1255 - accuracy: 0.9766 - val_loss: 0.7843 - val_accuracy: 0.7344\n",
            "Epoch 86/100\n",
            " - 34s - loss: 0.1198 - accuracy: 0.9688 - val_loss: 0.6503 - val_accuracy: 0.7656\n",
            "Epoch 87/100\n",
            " - 34s - loss: 0.1174 - accuracy: 0.9688 - val_loss: 0.6576 - val_accuracy: 0.7969\n",
            "Epoch 88/100\n",
            " - 34s - loss: 0.1084 - accuracy: 0.9844 - val_loss: 0.7297 - val_accuracy: 0.7344\n",
            "Epoch 89/100\n",
            " - 34s - loss: 0.1163 - accuracy: 0.9727 - val_loss: 0.6682 - val_accuracy: 0.7344\n",
            "Epoch 90/100\n",
            " - 34s - loss: 0.0789 - accuracy: 0.9922 - val_loss: 0.6231 - val_accuracy: 0.7812\n",
            "Epoch 91/100\n",
            " - 34s - loss: 0.0892 - accuracy: 0.9883 - val_loss: 0.6818 - val_accuracy: 0.7500\n",
            "Epoch 92/100\n",
            " - 34s - loss: 0.0880 - accuracy: 0.9844 - val_loss: 0.7419 - val_accuracy: 0.7344\n",
            "Epoch 93/100\n",
            " - 34s - loss: 0.0823 - accuracy: 0.9883 - val_loss: 0.8191 - val_accuracy: 0.6875\n",
            "Epoch 94/100\n",
            " - 34s - loss: 0.0843 - accuracy: 0.9883 - val_loss: 0.7298 - val_accuracy: 0.6875\n",
            "Epoch 95/100\n",
            " - 34s - loss: 0.0651 - accuracy: 0.9883 - val_loss: 0.6163 - val_accuracy: 0.7969\n",
            "Epoch 96/100\n",
            " - 34s - loss: 0.0721 - accuracy: 0.9883 - val_loss: 0.6153 - val_accuracy: 0.7969\n",
            "Epoch 97/100\n",
            " - 34s - loss: 0.0573 - accuracy: 0.9922 - val_loss: 0.6966 - val_accuracy: 0.7500\n",
            "Epoch 98/100\n",
            " - 34s - loss: 0.0665 - accuracy: 0.9844 - val_loss: 0.7492 - val_accuracy: 0.7031\n",
            "Epoch 99/100\n",
            " - 34s - loss: 0.0580 - accuracy: 0.9922 - val_loss: 0.7227 - val_accuracy: 0.7031\n",
            "Epoch 100/100\n",
            " - 34s - loss: 0.0605 - accuracy: 0.9922 - val_loss: 0.7335 - val_accuracy: 0.7344\n"
          ],
          "name": "stdout"
        }
      ]
    },
    {
      "cell_type": "code",
      "metadata": {
        "colab": {
          "base_uri": "https://localhost:8080/",
          "height": 295
        },
        "id": "MhCbsMnKEIAW",
        "outputId": "2535e926-44ea-4b5b-a734-42a873623de0"
      },
      "source": [
        "plt.plot(history.history['accuracy'])\n",
        "plt.plot(history.history['val_accuracy'])\n",
        "plt.title('model accuracy')\n",
        "plt.ylabel('accuracy')\n",
        "plt.xlabel('epoch')\n",
        "plt.legend(['train', 'test'], loc='upper left')\n",
        "plt.show()"
      ],
      "execution_count": null,
      "outputs": [
        {
          "output_type": "display_data",
          "data": {
            "image/png": "[encoded data removed]",
            "text/plain": [
              "<Figure size 432x288 with 1 Axes>"
            ]
          },
          "metadata": {
            "tags": [],
            "needs_background": "light"
          }
        }
      ]
    },
    {
      "cell_type": "code",
      "metadata": {
        "colab": {
          "base_uri": "https://localhost:8080/",
          "height": 295
        },
        "id": "aJAKpgE2EIo3",
        "outputId": "ddedc331-e002-46c7-ebb0-80a220f24c3a"
      },
      "source": [
        "plt.plot(history.history['loss'])\n",
        "plt.plot(history.history['val_loss'])\n",
        "plt.title('model loss')\n",
        "plt.ylabel('loss')\n",
        "plt.xlabel('epoch')\n",
        "plt.legend(['train', 'test'], loc='upper left')\n",
        "plt.show()"
      ],
      "execution_count": null,
      "outputs": [
        {
          "output_type": "display_data",
          "data": {
            "image/png": "[encoded data removed]",
            "text/plain": [
              "<Figure size 432x288 with 1 Axes>"
            ]
          },
          "metadata": {
            "tags": [],
            "needs_background": "light"
          }
        }
      ]
    },
    {
      "cell_type": "code",
      "metadata": {
        "id": "sDf_Vl1orMdB"
      },
      "source": [
        "c3d_model.save_weights(\"/content/gdrive/My Drive/iss/itss/data/model_c3d_v2.h5\")"
      ],
      "execution_count": null,
      "outputs": []
    },
    {
      "cell_type": "code",
      "metadata": {
        "id": "PHFKN_n6NVxz"
      },
      "source": [
        "c3d_model.load_weights(\"/content/gdrive/My Drive/iss/itss/data/model_c3d_v0815.h5\")"
      ],
      "execution_count": null,
      "outputs": []
    },
    {
      "cell_type": "code",
      "metadata": {
        "colab": {
          "base_uri": "https://localhost:8080/"
        },
        "id": "bPrl1c8D1b4H",
        "outputId": "4b8d19ee-d57e-47d7-f9d9-73827b954f43"
      },
      "source": [
        "# Evaluate the deep learning model\n",
        "y_pred = c3d_model.predict(x_test, verbose=0)\n",
        "print(\"Confusion matrix\")\n",
        "print(confusion_matrix(np.argmax(y_test, axis=1), np.argmax(y_pred, axis=1)))\n"
      ],
      "execution_count": null,
      "outputs": [
        {
          "output_type": "stream",
          "text": [
            "Confusion matrix\n",
            "[[ 9  5  0  2]\n",
            " [ 0 11  1  4]\n",
            " [ 1  3 11  1]\n",
            " [ 0  0  0 16]]\n"
          ],
          "name": "stdout"
        }
      ]
    },
    {
      "cell_type": "code",
      "metadata": {
        "id": "ysfRyfPqn-ly"
      },
      "source": [
        "cm = confusion_matrix(np.argmax(y_test, axis=1), np.argmax(y_pred, axis=1))"
      ],
      "execution_count": null,
      "outputs": []
    },
    {
      "cell_type": "code",
      "metadata": {
        "colab": {
          "base_uri": "https://localhost:8080/",
          "height": 268
        },
        "id": "cU0q4DT7nz0a",
        "outputId": "5f559f72-36ac-4a24-b957-6552858a123a"
      },
      "source": [
        "plt.imshow(cm, cmap='hot', interpolation='nearest')\n",
        "plt.show()"
      ],
      "execution_count": null,
      "outputs": [
        {
          "output_type": "display_data",
          "data": {
            "image/png": "[encoded data removed]",
            "text/plain": [
              "<Figure size 432x288 with 1 Axes>"
            ]
          },
          "metadata": {
            "tags": [],
            "needs_background": "light"
          }
        }
      ]
    },
    {
      "cell_type": "code",
      "metadata": {
        "colab": {
          "base_uri": "https://localhost:8080/"
        },
        "id": "G5T_cAyQ9xse",
        "outputId": "45cbcad9-5939-4119-8d56-385c07ea6720"
      },
      "source": [
        "np.argmax(y_pred, axis=1)"
      ],
      "execution_count": null,
      "outputs": [
        {
          "output_type": "execute_result",
          "data": {
            "text/plain": [
              "array([3, 3, 0, 0, 0, 0, 1, 0, 0, 0, 1, 0, 1, 1, 1, 0, 0, 3, 1, 1, 0, 1,\n",
              "       0, 2, 3, 3, 1, 1, 1, 1, 3, 1, 1, 1, 2, 2, 3, 1, 1, 1, 1, 3, 0, 3,\n",
              "       2, 3, 2, 2, 0, 2, 0, 2, 2, 2, 2, 2, 2, 2, 2, 0, 1, 0, 1, 2, 3, 0,\n",
              "       3, 3, 3, 1, 3, 1, 1, 2, 1, 3, 0, 3, 3, 2, 2, 3, 0, 1, 3])"
            ]
          },
          "metadata": {
            "tags": []
          },
          "execution_count": 37
        }
      ]
    },
    {
      "cell_type": "code",
      "metadata": {
        "colab": {
          "base_uri": "https://localhost:8080/"
        },
        "id": "ZdsmeS6prd0p",
        "outputId": "0cb43ac4-2116-42d1-897a-6b99d84088cd"
      },
      "source": [
        "(12+7+14+11)/len(x_test)"
      ],
      "execution_count": null,
      "outputs": [
        {
          "output_type": "execute_result",
          "data": {
            "text/plain": [
              "0.5176470588235295"
            ]
          },
          "metadata": {
            "tags": []
          },
          "execution_count": 18
        }
      ]
    },
    {
      "cell_type": "code",
      "metadata": {
        "colab": {
          "base_uri": "https://localhost:8080/"
        },
        "id": "4fQZe3cvKB-f",
        "outputId": "7c3d0065-7819-40fb-cf60-67fd50520edb"
      },
      "source": [
        "(9+10+15+8)/len(x_test)"
      ],
      "execution_count": null,
      "outputs": [
        {
          "output_type": "execute_result",
          "data": {
            "text/plain": [
              "0.49411764705882355"
            ]
          },
          "metadata": {
            "tags": []
          },
          "execution_count": 29
        }
      ]
    },
    {
      "cell_type": "code",
      "metadata": {
        "colab": {
          "base_uri": "https://localhost:8080/"
        },
        "id": "GVB3iWPDJDOW",
        "outputId": "ea80da10-7825-4cb1-870a-c602a443e0af"
      },
      "source": [
        "c3d_feature_model = Model(inputs = c3d_model.input, outputs = c3d_model.get_layer('flatten_feature').output)\n",
        "\n",
        "x_train_features = c3d_feature_model.predict(x_train)\n",
        "\n",
        "x_train_label = []\n",
        "for filename, label in ucf_train:\n",
        "    x_train_label.append(label)\n",
        "\n",
        "x_train_label = np.array(x_train_label)\n",
        "print(\"Training data for c3d_svm_model\", x_train_features.shape, x_train_label.shape)\n",
        "\n",
        "x_test_features = c3d_feature_model.predict(x_test)\n",
        "\n",
        "x_test_label = []\n",
        "for filename, label in ucf_test:\n",
        "    x_test_label.append(label)\n",
        "\n",
        "x_test_label = np.array(x_test_label)\n",
        "\n",
        "print(\"Test data for c3d_svm_model\", x_test_features.shape, x_test_label.shape)\n",
        "\n",
        "c3d_svm_model = svm.SVC(kernel = 'linear', C = 1).fit(x_train_features, x_train_label)\n",
        "\n",
        "x_test_pred = c3d_svm_model.predict(x_test_features)\n",
        "\n",
        "print(confusion_matrix(x_test_label, x_test_pred))"
      ],
      "execution_count": null,
      "outputs": [
        {
          "output_type": "stream",
          "text": [
            "Training data for c3d_svm_model (256, 2048) (256,)\n",
            "Test data for c3d_svm_model (64, 2048) (64,)\n",
            "[[ 8  4  0  4]\n",
            " [ 2  9  1  4]\n",
            " [ 1  2 13  0]\n",
            " [ 0  0  0 16]]\n"
          ],
          "name": "stdout"
        }
      ]
    },
    {
      "cell_type": "code",
      "metadata": {
        "colab": {
          "base_uri": "https://localhost:8080/"
        },
        "id": "4EtxP0gmJIye",
        "outputId": "c4fa89ff-5e2b-4430-82d7-c57db5e6d863"
      },
      "source": [
        "(10+9+12+11)/len(x_test)"
      ],
      "execution_count": null,
      "outputs": [
        {
          "output_type": "execute_result",
          "data": {
            "text/plain": [
              "0.47058823529411764"
            ]
          },
          "metadata": {
            "tags": []
          },
          "execution_count": 17
        }
      ]
    },
    {
      "cell_type": "code",
      "metadata": {
        "colab": {
          "base_uri": "https://localhost:8080/"
        },
        "id": "RITsMAoAKAhs",
        "outputId": "da8703b6-143b-4eb4-83c2-2cd2ed077b19"
      },
      "source": [
        "type(x_test)"
      ],
      "execution_count": null,
      "outputs": [
        {
          "output_type": "execute_result",
          "data": {
            "text/plain": [
              "numpy.ndarray"
            ]
          },
          "metadata": {
            "tags": []
          },
          "execution_count": 30
        }
      ]
    },
    {
      "cell_type": "code",
      "metadata": {
        "id": "I4RFjZabKeDk"
      },
      "source": [
        "m_test = vid3d.get_data(filename = '/content/gdrive/My Drive/iss/itss/data/baby/standing.mp4')"
      ],
      "execution_count": null,
      "outputs": []
    },
    {
      "cell_type": "code",
      "metadata": {
        "id": "ov-PzWH3VgKC"
      },
      "source": [
        "m_test = m_test.reshape((np.array([x_train]).shape[0], img_rows, img_cols, frames, channel))"
      ],
      "execution_count": null,
      "outputs": []
    },
    {
      "cell_type": "code",
      "metadata": {
        "id": "5NlYDCChva4C"
      },
      "source": [
        "result = c3d_model.predict(m_test, verbose=0)"
      ],
      "execution_count": null,
      "outputs": []
    },
    {
      "cell_type": "code",
      "metadata": {
        "colab": {
          "base_uri": "https://localhost:8080/"
        },
        "id": "TK3s-qE_T0kX",
        "outputId": "a3140d6e-23ef-48ca-f73b-eb4fed922f86"
      },
      "source": [
        "np.argmax(result, axis=1)"
      ],
      "execution_count": null,
      "outputs": [
        {
          "output_type": "execute_result",
          "data": {
            "text/plain": [
              "array([0])"
            ]
          },
          "metadata": {
            "tags": []
          },
          "execution_count": 42
        }
      ]
    },
    {
      "cell_type": "code",
      "metadata": {
        "colab": {
          "base_uri": "https://localhost:8080/"
        },
        "id": "vSvI8VbzU40k",
        "outputId": "8b2ff5b0-018f-4539-ff3a-13299d80899d"
      },
      "source": [
        "result[0]"
      ],
      "execution_count": null,
      "outputs": [
        {
          "output_type": "execute_result",
          "data": {
            "text/plain": [
              "0.986439"
            ]
          },
          "metadata": {
            "tags": []
          },
          "execution_count": 44
        }
      ]
    },
    {
      "cell_type": "code",
      "metadata": {
        "id": "RoaCM62uvYOR"
      },
      "source": [
        ""
      ],
      "execution_count": null,
      "outputs": []
    }
  ]
}